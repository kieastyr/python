{
 "metadata": {
  "language_info": {
   "codemirror_mode": {
    "name": "ipython",
    "version": 3
   },
   "file_extension": ".py",
   "mimetype": "text/x-python",
   "name": "python",
   "nbconvert_exporter": "python",
   "pygments_lexer": "ipython3",
   "version": "3.7.6-final"
  },
  "orig_nbformat": 2,
  "kernelspec": {
   "name": "python3",
   "display_name": "Python 3",
   "language": "python"
  }
 },
 "nbformat": 4,
 "nbformat_minor": 2,
 "cells": [
  {
   "source": [
    "# 課題1 WAVデータの入出力，STFT\n",
    ".wav 形式のデータをPython上で読み込み，書き込む  \n",
    "STFTと簡単なハイパスフィルタの作成，逆変換による波形復元"
   ],
   "cell_type": "markdown",
   "metadata": {}
  },
  {
   "source": [
    "## 必要なライブラリのインポートおよび雑多な変数の設定\n",
    "おまじない"
   ],
   "cell_type": "markdown",
   "metadata": {}
  },
  {
   "cell_type": "code",
   "execution_count": null,
   "metadata": {},
   "outputs": [],
   "source": [
    "import numpy as np\n",
    "import librosa\n",
    "import librosa.display\n",
    "import matplotlib.pyplot as plt\n",
    "import soundfile as sf\n",
    "import scipy.signal\n",
    "import os\n",
    "\n",
    "\n",
    "eps = 1e-10     ### 「めっちゃ小さい数」として使う便利な値\n",
    "plt.rcParams.update({\n",
    "    ####### matplotlibでグラフを出力するときの設定\n",
    "    'font.size' : 18,     ### フォントサイズ\n",
    "    'font.family': ['Times New Roman']   ### フォントの種類\n",
    "})\n"
   ]
  },
  {
   "source": [
    "## 課題1.1 読み込むファイルの設定（以下のコードに書き込む）\n",
    "書き出すファイル名を参考に読み込むファイル名を記述"
   ],
   "cell_type": "markdown",
   "metadata": {}
  },
  {
   "cell_type": "code",
   "execution_count": null,
   "metadata": {},
   "outputs": [],
   "source": [
    "####### WRITE HERE ######################################################\n",
    "####### 読み込むファイル名\n",
    "input_file = \"wav_data\" + os.sep + \"input\" + os.sep + \"saudade.wav\"\n",
    "#########################################################################\n",
    "\n",
    "####### 書き出すファイル名\n",
    "output_file = \"wav_data\" + os.sep + \"output\" + os.sep + \"out1_1.wav\"\n",
    "\n",
    "wave, sr = librosa.core.load(input_file)  ### load input wav\n",
    "sf.write(output_file, wave, sr)     ### save output wav\n",
    "print(f\"waveのサイズ:{wave.shape}\\nサンプリングレート{sr}\")"
   ]
  },
  {
   "source": [
    "## matplotlibで波形の表示"
   ],
   "cell_type": "markdown",
   "metadata": {}
  },
  {
   "cell_type": "code",
   "execution_count": null,
   "metadata": {},
   "outputs": [],
   "source": [
    "t = np.arange(0, wave.shape[0]/sr, 1/sr)  ### x axis [sec.]\n",
    "plt.plot(t, wave)           ### x軸: t, y軸: wave\n",
    "plt.xlabel(\"Time [sec.]\")   ### x軸ラベル\n",
    "plt.ylabel(\"Amplitude\")     ### y軸ラベル\n",
    "plt.ylim([-1, 1])           ### y軸表示範囲\n",
    "plt.tight_layout()          ### 図のサイズをなんかいい感じにする\n",
    "plt.show()                  ### グラフの表示\n"
   ]
  },
  {
   "source": [
    "## 課題1.2 waveの切り出し（以下のコードに書き込む）"
   ],
   "cell_type": "markdown",
   "metadata": {}
  },
  {
   "cell_type": "code",
   "execution_count": null,
   "metadata": {},
   "outputs": [],
   "source": [
    "duration = 5    ### この課題で扱う曲の長さ[sec.]\n",
    "\n",
    "####### WRITE HERE ######################################################\n",
    "####### duration秒切り出すために必要なサンプル数を計算\n",
    "dur_length = duration*sr\n",
    "#########################################################################\n",
    "\n",
    "t2 = np.arange(0, duration, 1/sr)  ## x axis [sec.]\n",
    "\n",
    "####### WRITE HERE ######################################################\n",
    "####### waveの0~dur_length分のデータをwave2に代入\n",
    "####### あるいは「スライス表記」を用いるとfor文なしでも書ける\n",
    "# for i in range(dur_length):\n",
    "\n",
    "wave2 = wave[:dur_length]\n",
    "\n",
    "####### 「matplotlibで波形の表示」のコードを参考にwave2のグラフを描画\n",
    "plt.plot(t2, wave2)\n",
    "plt.xlabel(\"Time [sec.]\")\n",
    "plt.ylabel(\"Amplitude\")\n",
    "plt.ylim([-1, 1])\n",
    "plt.tight_layout()\n",
    "plt.show()\n",
    "\n",
    "####### 「課題1.1」を参考にwave2をout1_2.wavとして書き出し\n",
    "### この先何度も書くのめんどいのでこれだけ変数化\n",
    "output_dir = \"wav_data\" + os.sep + \"output\" + os.sep    \n",
    "\n",
    "\n",
    "#########################################################################"
   ]
  },
  {
   "source": [
    "## STFTによるスペクトログラム表示"
   ],
   "cell_type": "markdown",
   "metadata": {}
  },
  {
   "cell_type": "code",
   "execution_count": null,
   "metadata": {},
   "outputs": [],
   "source": [
    "x = librosa.core.stft(wave)  ### STFT\n",
    "x_abs = np.abs(x)  ### 振幅成分の取り出し\n",
    "x_abs_db = librosa.core.amplitude_to_db(x_abs)  ### db単位へ変換\n",
    "librosa.display.specshow(x_abs_db, cmap='jet', sr=sr, x_axis='time', y_axis='log')  ### スペクトログラムを表示(y軸を対数軸に変換)\n",
    "plt.colorbar(format='%+2.0f dB')\n",
    "plt.tight_layout()\n",
    "plt.show()\n",
    "\n",
    "print(f\"STFT後のサイズ:縦{x.shape[0]}，横{x.shape[1]}\")"
   ]
  },
  {
   "source": [
    "## 課題1.3 wave2のスペクトログラム"
   ],
   "cell_type": "markdown",
   "metadata": {}
  },
  {
   "cell_type": "code",
   "execution_count": null,
   "metadata": {},
   "outputs": [],
   "source": [
    "####### WRITE HERE ######################################################\n",
    "####### 「STFTによるスペクトログラム表示」を参考にwave2のスペクトログラムを描画\n",
    "x2 = librosa.core.stft(wave2)  ### STFT\n",
    "x_abs2 = np.abs(x2)  ### 振幅成分の取り出し\n",
    "x_abs_db2 = librosa.core.amplitude_to_db(x_abs2)  ### db単位へ変換\n",
    "librosa.display.specshow(x_abs_db2, cmap='jet', sr=sr, x_axis='time', y_axis='log')  ### スペクトログラムを表示(y軸を対数軸に変換)\n",
    "plt.colorbar(format='%+2.0f dB')\n",
    "plt.tight_layout()\n",
    "plt.show()\n",
    "#########################################################################\n",
    "\n",
    "print(f\"STFT後のサイズ:縦(周波数){x2.shape[0]}，横(時刻){x2.shape[1]}\")"
   ]
  },
  {
   "source": [
    "## 課題1.4 サンプリングレートの変更\n",
    "サンプリングレートsr \\[Hz\\]の場合，  \n",
    "スペクトログラムは0 ~ sr/2 \\[Hz\\]まで表示(サンプリング定理)  \n",
    "サンプリングレートを半分にすると，表示できる最大周波数が半分になる．"
   ],
   "cell_type": "markdown",
   "metadata": {}
  },
  {
   "cell_type": "code",
   "execution_count": null,
   "metadata": {},
   "outputs": [],
   "source": [
    "####### サンプリングレート半分\n",
    "sr3 = sr//2\n",
    "####### x2のサイズを参考にx3のサイズを決める\n",
    "x3 = np.zeros((x2.shape[0]//2+1, x2.shape[1]))\n",
    "\n",
    "print(f\"x3のサイズ:縦(周波数){x3.shape[0]}，横(時刻){x3.shape[1]}\")\n",
    "\n",
    "####### WRITE HERE ######################################################\n",
    "####### x3の各要素にx2を代入\n",
    "for i in range(x3.shape[0]):\n",
    "    for j in range(x3.shape[1]):\n",
    "        x3[i, j] = x2[i, j]     \n",
    "\n",
    "####### あるいは「スライス表記」を用いて↑の3行分を1行で書いても可\n",
    "\n",
    "\n",
    "#########################################################################\n",
    "\n",
    "####### x3のスペクトログラムを表示\n",
    "x_abs3 = np.abs(x3)  ### 振幅成分の取り出し\n",
    "x_abs_db3 = librosa.core.amplitude_to_db(x_abs3)  ### db単位へ変換\n",
    "\n",
    "####### ※srとして指定する値に注意する\n",
    "librosa.display.specshow(x_abs_db3, cmap='jet', sr=sr3, x_axis='time', y_axis='log')  ### スペクトログラムを表示(y軸を対数軸に変換)\n",
    "plt.colorbar(format='%+2.0f dB')\n",
    "plt.tight_layout()\n",
    "plt.show()\n",
    "   "
   ]
  },
  {
   "source": [
    "## 課題1.5 ハイパスフィルタ\n",
    "1000 Hzくらいより大きい周波数のみ通し，それ以下は0にしたい．  \n",
    "STFT後の縦サイズによって0~sr/2までの周波数が等分されていることから，  \n",
    "縦サイズの\\[  \\]番目以降を残し，それ以下の部分を0にすればよい"
   ],
   "cell_type": "markdown",
   "metadata": {}
  },
  {
   "cell_type": "code",
   "execution_count": null,
   "metadata": {},
   "outputs": [],
   "source": [
    "x4 = x2.copy()\n",
    "\n",
    "####### ↑の[  ]に入る数字を入れる（四捨五入した整数値）\n",
    "cut_index = 93\n",
    "\n",
    "####### x4の該当する要素を0にする（for文あるいはスライス表記）\n",
    "x4[:cut_index] = 0\n",
    "\n",
    "####### x4のスペクトログラムを表示\n",
    "x_abs4 = np.abs(x4)  ### 振幅成分の取り出し\n",
    "x_abs_db4 = librosa.core.amplitude_to_db(x_abs4)  ### db単位へ変換\n",
    "librosa.display.specshow(x_abs_db4, cmap='jet', sr=sr, x_axis='time', y_axis='log')  ### スペクトログラムを表示(y軸を対数軸に変換)\n",
    "plt.colorbar(format='%+2.0f dB')\n",
    "plt.tight_layout()\n",
    "plt.show()\n"
   ]
  },
  {
   "source": [
    "## 逆変換(iSTFT)により波形成分を得る"
   ],
   "cell_type": "markdown",
   "metadata": {}
  },
  {
   "cell_type": "code",
   "execution_count": null,
   "metadata": {},
   "outputs": [],
   "source": [
    "####### iSTFTにより波形に戻す\n",
    "wave3 = librosa.core.istft(x)\n",
    "\n",
    "####### wave3の表示\n",
    "t3 = np.arange(0, wave3.shape[0]/sr, 1/sr)  ## x axis [sec.]\n",
    "plt.plot(t3, wave3)\n",
    "plt.xlabel(\"Time [sec.]\")\n",
    "plt.ylabel(\"Amplitude\")\n",
    "plt.ylim([-1, 1])\n",
    "plt.tight_layout()\n",
    "plt.show()\n",
    "\n",
    "####### wave3をout1_3.wavとして保存\n",
    "sf.write(output_dir + os.sep + \"out1_3.wav\", wave3, sr)"
   ]
  },
  {
   "source": [
    "## 課題1.6 x2, x3, x4にiSTFTを施し波形を得る"
   ],
   "cell_type": "markdown",
   "metadata": {}
  },
  {
   "cell_type": "code",
   "execution_count": null,
   "metadata": {},
   "outputs": [],
   "source": [
    "####### WRITE HERE ######################################################\n",
    "####### 「逆変換(iSTFT)により波形成分を得る」のコードを参考にx2をwave4へiSTFT\n",
    "wave4 = librosa.core.istft(x2)\n",
    "\n",
    "####### wave4の波形を表示\n",
    "t4 = np.arange(0, wave4.shape[0]/sr, 1/sr)  ## x axis [sec.]\n",
    "plt.plot(t4, wave4)\n",
    "plt.xlabel(\"Time [sec.]\")\n",
    "plt.ylabel(\"Amplitude\")\n",
    "plt.ylim([-1, 1])\n",
    "plt.tight_layout()\n",
    "plt.show()\n",
    "\n",
    "####### wave4をout1_4.wavとして保存\n",
    "sf.write(output_dir + os.sep + \"out1_4.wav\", wave4, sr)\n",
    "\n",
    "#########################################################################"
   ]
  },
  {
   "cell_type": "code",
   "execution_count": null,
   "metadata": {},
   "outputs": [],
   "source": [
    "####### WRITE HERE ######################################################\n",
    "####### x3をwave5へiSTFT\n",
    "wave5 = librosa.core.istft(x3)\n",
    "\n",
    "####### wave4の波形を表示（※サンプリングレートに注意！）\n",
    "t5 = np.arange(0, wave5.shape[0]/sr3, 1/sr3)  ## x axis [sec.]\n",
    "plt.plot(t5, wave5)\n",
    "plt.xlabel(\"Time [sec.]\")\n",
    "plt.ylabel(\"Amplitude\")\n",
    "plt.ylim([-1, 1])\n",
    "plt.tight_layout()\n",
    "plt.show()\n",
    "\n",
    "####### wave5をout1_5.wavとして保存（※サンプリングレートに注意！）\n",
    "sf.write(output_dir + os.sep + \"out1_5.wav\", wave5, sr3)\n",
    "\n",
    "\n",
    "#########################################################################"
   ]
  },
  {
   "cell_type": "code",
   "execution_count": null,
   "metadata": {},
   "outputs": [],
   "source": [
    "####### WRITE HERE ######################################################\n",
    "####### x4をwave6へiSTFT\n",
    "wave6 = librosa.core.istft(x4)\n",
    "\n",
    "\n",
    "####### wave6の波形を表示\n",
    "t6 = np.arange(0, wave6.shape[0]/sr, 1/sr)  ## x axis [sec.]\n",
    "plt.plot(t6, wave6)\n",
    "plt.xlabel(\"Time [sec.]\")\n",
    "plt.ylabel(\"Amplitude\")\n",
    "plt.ylim([-1, 1])\n",
    "plt.tight_layout()\n",
    "plt.show()\n",
    "\n",
    "####### wave6をout1_6.wavとして保存\n",
    "sf.write(output_dir + os.sep + \"out1_6.wav\", wave6, sr)\n",
    "\n",
    "\n",
    "#########################################################################"
   ]
  },
  {
   "cell_type": "code",
   "execution_count": null,
   "metadata": {},
   "outputs": [],
   "source": []
  }
 ]
}