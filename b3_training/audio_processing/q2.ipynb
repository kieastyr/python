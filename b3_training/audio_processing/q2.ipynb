{
 "metadata": {
  "language_info": {
   "codemirror_mode": {
    "name": "ipython",
    "version": 3
   },
   "file_extension": ".py",
   "mimetype": "text/x-python",
   "name": "python",
   "nbconvert_exporter": "python",
   "pygments_lexer": "ipython3",
   "version": "3.7.6-final"
  },
  "orig_nbformat": 2,
  "kernelspec": {
   "name": "python3",
   "display_name": "Python 3",
   "language": "python"
  }
 },
 "nbformat": 4,
 "nbformat_minor": 2,
 "cells": [
  {
   "source": [
    "# 課題2 音響効果の付与\n",
    "エコー，ピッチシフト，テンポシフトを時間領域および周波数領域で実現する\n"
   ],
   "cell_type": "markdown",
   "metadata": {}
  },
  {
   "source": [
    "## 必要なライブラリのインポートおよび雑多な変数の設定\n",
    "おまじない"
   ],
   "cell_type": "markdown",
   "metadata": {}
  },
  {
   "cell_type": "code",
   "execution_count": null,
   "metadata": {},
   "outputs": [],
   "source": [
    "import numpy as np\n",
    "import librosa\n",
    "import librosa.display\n",
    "import matplotlib.pyplot as plt\n",
    "import soundfile as sf\n",
    "import scipy.signal\n",
    "import os\n",
    "\n",
    "\n",
    "eps = 1e-10     ### 「めっちゃ小さい数」として使う便利な値\n",
    "plt.rcParams.update({\n",
    "    ####### matplotlibでグラフを出力するときの設定\n",
    "    'font.size' : 18,     ### フォントサイズ\n",
    "    'font.family': ['Times New Roman']   ### フォントの種類\n",
    "})\n",
    "duration = 10   ### この課題で扱う曲の長さ[sec.]\n",
    "fft_num = 8192  ### FFT長(librosaのSTFTでのFFTを行う1サンプルのデフォルト値)"
   ]
  },
  {
   "source": [
    "## WAVファイルから波形の読み込み\n",
    "input_fileは読み込みたいファイルに合わせて適宜変更"
   ],
   "cell_type": "markdown",
   "metadata": {}
  },
  {
   "cell_type": "code",
   "execution_count": null,
   "metadata": {},
   "outputs": [],
   "source": [
    "####### 読み込むファイル名(適宜変更)\n",
    "input_file = \"wav_data\" + os.sep + \"input\" + os.sep + \"sakura.wav\"\n",
    "\n",
    "####### 書き出し先のディレクトリ\n",
    "output_dir = \"wav_data\" + os.sep + \"output\" + os.sep\n",
    "\n",
    "\n",
    "wave, sr = librosa.core.load(input_file)  ### load input wav\n",
    "\n",
    "####### waveをdurationの長さ分だけ取り出す\n",
    "wave_length = duration*sr\n",
    "wave = wave[:wave_length]\n",
    "\n",
    "print(f\"waveのサイズ:{wave.shape}\\n時間:{duration} sec\\nサンプリングレート{sr}\")"
   ]
  },
  {
   "source": [
    "## 課題2.1 時間領域でエコーをかける\n",
    "元の信号に対し，エコーのかかった信号を作成する．"
   ],
   "cell_type": "markdown",
   "metadata": {}
  },
  {
   "source": [
    "### matplotlibで波形の表示"
   ],
   "cell_type": "markdown",
   "metadata": {}
  },
  {
   "cell_type": "code",
   "execution_count": null,
   "metadata": {},
   "outputs": [],
   "source": [
    "t = np.arange(0, wave.shape[0]/sr, 1/sr)  ### x axis [sec.]\n",
    "plt.plot(t, wave)           ### x軸: t, y軸: wave\n",
    "plt.xlabel(\"Time [sec.]\")   ### x軸ラベル\n",
    "plt.ylabel(\"Amplitude\")     ### y軸ラベル\n",
    "plt.ylim([-1, 1])           ### y軸表示範囲\n",
    "plt.tight_layout()          ### 図のサイズをなんかいい感じにする\n",
    "plt.show()                  ### グラフの表示"
   ]
  },
  {
   "source": [
    "### waveにエコーをかけたwave_echo1の作成（記述）"
   ],
   "cell_type": "markdown",
   "metadata": {}
  },
  {
   "cell_type": "code",
   "execution_count": null,
   "metadata": {},
   "outputs": [],
   "source": [
    "####### waveと同じ中身のnumpy配列を作成\n",
    "wave_echo1 = wave.copy()\n",
    "delay = 1.5     ### エコーの遅れる長さ(秒)\n",
    "delay_pow = 0.7             ### エコーの音量の倍率（ゲイン）\n",
    "\n",
    "\n",
    "####### WRITE HERE ######################################################\n",
    "###### delay秒遅れるとしたときのサンプル数\n",
    "###### int型にキャストすること\n",
    "delay_length = \n",
    "\n",
    "####### waveのdelay_length後から最後までのデータに対して，\n",
    "####### delay_length個分前の音を加える\n",
    "for i in range(delay_length, wave_length):\n",
    "    wave_echo1[i] += \n",
    "    wave_echo1[i] *= 0.5    ### 音割れ防止のための調整\n",
    "\n",
    "#########################################################################\n",
    "\n",
    "t = np.arange(0, wave_echo1.shape[0]/sr, 1/sr)  ### x axis [sec.]\n",
    "plt.plot(t, wave_echo1)           ### x軸: t, y軸: wave\n",
    "plt.xlabel(\"Time [sec.]\")   ### x軸ラベル\n",
    "plt.ylabel(\"Amplitude\")     ### y軸ラベル\n",
    "plt.ylim([-1, 1])           ### y軸表示範囲\n",
    "plt.tight_layout()          ### 図のサイズをなんかいい感じにする\n",
    "plt.show()                  ### グラフの表示\n",
    "\n",
    "####### wave_echo1をout2_echo1.wavとして保存\n",
    "sf.write(output_dir + os.sep + \"out2_echo1.wav\", wave_echo1, sr)"
   ]
  },
  {
   "source": [
    "## 課題2.2 周波数領域でエコーをかける\n",
    "STFTした領域でエコーをかけ，時間領域でかけたものと比較する．"
   ],
   "cell_type": "markdown",
   "metadata": {}
  },
  {
   "source": [
    "### STFTとカラーマップの表示"
   ],
   "cell_type": "markdown",
   "metadata": {}
  },
  {
   "cell_type": "code",
   "execution_count": null,
   "metadata": {},
   "outputs": [],
   "source": [
    "x = librosa.core.stft(wave, n_fft=fft_num, hop_length=fft_num//4)  ### STFT\n",
    "\n",
    "####### カラーマップの描画\n",
    "x_abs = np.abs(x)  ### 振幅成分の取り出し\n",
    "x_abs_db = librosa.core.amplitude_to_db(x_abs)  ### db単位へ変換\n",
    "librosa.display.specshow(x_abs_db, cmap='jet', sr=sr, x_axis='time', y_axis='log')  ### スペクトログラムを表示(y軸を対数軸に変換)\n",
    "plt.colorbar(format='%+2.0f dB')    ### カラーバーの表示\n",
    "plt.tight_layout()                  ### 図のサイズをなんかいい感じにする\n",
    "plt.show()                          ### グラフの表示\n",
    "\n",
    "print(f\"STFT後のサイズ:縦{x.shape[0]}，横{x.shape[1]}\")"
   ]
  },
  {
   "source": [
    "### xにエコーをかけたx_echoの作成（記述）"
   ],
   "cell_type": "markdown",
   "metadata": {}
  },
  {
   "cell_type": "code",
   "execution_count": null,
   "metadata": {},
   "outputs": [],
   "source": [
    "####### xと同じ中身のnumpy行列を作成\n",
    "x_echo = x.copy()\n",
    "\n",
    "sample_per_sec = x_echo.shape[1]//duration  ### STFTカラーマップの1秒当たりのサンプル数\n",
    "delay_pow = 0.7             ### エコーの音量の倍率（ゲイン）\n",
    "\n",
    "####### WRITE HERE ######################################################\n",
    "###### delay秒遅れるとしたときのサンプル数\n",
    "###### int型にキャストすること\n",
    "delay_length =\n",
    "\n",
    "####### xのdelay_length後から最後までに対して，\n",
    "####### delay_length個分前の値を加える\n",
    "for j in range(delay_length, x.shape[1]):\n",
    "    for i in range(x.shape[0]):\n",
    "        x_echo[i, j] +=\n",
    "\n",
    "#########################################################################\n",
    "\n",
    "####### カラーマップの描画\n",
    "x_abs = np.abs(x)  ### 振幅成分の取り出し\n",
    "x_abs_db = librosa.core.amplitude_to_db(x_abs)  ### db単位へ変換\n",
    "librosa.display.specshow(x_abs_db, cmap='jet', sr=sr, x_axis='time', y_axis='log')  ### スペクトログラムを表示(y軸を対数軸に変換)\n",
    "plt.colorbar(format='%+2.0f dB')    ### カラーバーの表示\n",
    "plt.tight_layout()                  ### 図のサイズをなんかいい感じにする\n",
    "plt.show()                          ### グラフの表示"
   ]
  },
  {
   "source": [
    "### x_echoをiSTFTにより波形成分に変換（記述）"
   ],
   "cell_type": "markdown",
   "metadata": {}
  },
  {
   "cell_type": "code",
   "execution_count": null,
   "metadata": {},
   "outputs": [],
   "source": [
    "####### iSTFTにより波形に戻す\n",
    "wave_echo2 = librosa.core.istft(x_echo)\n",
    "\n",
    "####### WRITE HERE ######################################################\n",
    "####### wave_echo2の表示\n",
    "\n",
    "\n",
    "####### wave_echo2をout2_echo2.wavとして保存\n",
    "\n",
    "\n",
    "#########################################################################"
   ]
  },
  {
   "source": [
    "## 課題3.1 時間領域でテンポ(?)シフト\n",
    "元の信号を0.5倍速，1.5倍速したものをそれぞれ作成"
   ],
   "cell_type": "markdown",
   "metadata": {}
  },
  {
   "source": [
    "### waveを0.5倍速したwave_fast1_05を作成（記述）"
   ],
   "cell_type": "markdown",
   "metadata": {}
  },
  {
   "cell_type": "code",
   "execution_count": null,
   "metadata": {},
   "outputs": [],
   "source": [
    "####### WRITE HERE ######################################################\n",
    "####### wave_lengthを用いてwave_fast1_05の長さを決める\n",
    "fast05_len =\n",
    "wave_fast1_05 = np.zeros([fast05_len])\n",
    "\n",
    "####### 0.5倍速になるようにwaveの要素を挿入\n",
    "###### []の中は常にint型になるようにすること\n",
    "for i in range(fast05_len):\n",
    "    wave_fast1_05[i] = wave[       ]\n",
    "\n",
    "\n",
    "####### wave_fast1_05の表示\n",
    "\n",
    "\n",
    "####### wave_fast1_05をout2_fast1_05.wavとして保存\n",
    "\n",
    "\n",
    "#########################################################################"
   ]
  },
  {
   "source": [
    "### waveを1.5倍速したwave_fast1_15を作成（記述）"
   ],
   "cell_type": "markdown",
   "metadata": {}
  },
  {
   "cell_type": "code",
   "execution_count": null,
   "metadata": {},
   "outputs": [],
   "source": [
    "####### WRITE HERE ######################################################\n",
    "####### wave_lengthを用いてwave_fast1_15の長さを決める\n",
    "####### fast15_lenはint型になるように注意\n",
    "fast15_len =\n",
    "wave_fast1_15 = \n",
    "\n",
    "####### 1.5倍速になるようにwaveの要素を挿入\n",
    "###### []の中は常にint型になるようにすること\n",
    "\n",
    "\n",
    "####### wave_fast1_15の表示\n",
    "\n",
    "\n",
    "####### wave_fast1_15をout2_fast1_15.wavとして保存\n",
    "\n",
    "\n",
    "#########################################################################"
   ]
  },
  {
   "source": [
    "## 課題3.2 周波数領域でテンポシフト\n",
    "時間領域ではテンポを変えると全体の音程（ピッチ）も同時に変わってしまう<br>\n",
    "（変えない方法もあるが面倒　← 追加課題として調べてもらうのもあり）"
   ],
   "cell_type": "markdown",
   "metadata": {}
  },
  {
   "source": [
    "### 周波数領域で同様のテンポシフト(0.5倍速，1.5倍速)を行う\n",
    "### 0.5倍速の時のスペクトルx_fast_05を作成（記述）"
   ],
   "cell_type": "markdown",
   "metadata": {}
  },
  {
   "cell_type": "code",
   "execution_count": null,
   "metadata": {},
   "outputs": [],
   "source": [
    "####### もともとのスペクトルxのサイズを取得\n",
    "####### shape1: 縦（周波数軸），shape1: 横（時間軸）\n",
    "x_shape1, x_shape2 = x.shape\n",
    "\n",
    "####### WRITE HERE ######################################################\n",
    "####### x_fast_05で，xから変わる方の長さを，x_shapeを用いて決める\n",
    "x_fast_05_len =\n",
    "####### np.zeros([縦の長さ, 横の長さ])でx_fast_05を作成\n",
    "x_fast_05 = np.zeros([       ,       ])\n",
    "\n",
    "####### x_fast_05の要素を，xをもとに挿入\n",
    "for i in range(x_fast_05_len):\n",
    "    x_fast_05[:, i] =\n",
    "\n",
    "#########################################################################\n",
    "\n",
    "####### カラーマップの描画\n",
    "x_abs_05 = np.abs(x_fast_05)  ### 振幅成分の取り出し\n",
    "x_abs_db_05 = librosa.core.amplitude_to_db(x_abs_05)  ### db単位へ変換\n",
    "librosa.display.specshow(x_abs_db_05, cmap='jet', sr=sr, x_axis='time', y_axis='log')  ### スペクトログラムを表示(y軸を対数軸に変換)\n",
    "plt.colorbar(format='%+2.0f dB')    ### カラーバーの表示\n",
    "plt.tight_layout()                  ### 図のサイズをなんかいい感じにする\n",
    "plt.show()                          ### グラフの表示"
   ]
  },
  {
   "source": [
    "### x_fast_05をiSTFTで波形成分に変換（記述）"
   ],
   "cell_type": "markdown",
   "metadata": {}
  },
  {
   "cell_type": "code",
   "execution_count": null,
   "metadata": {},
   "outputs": [],
   "source": [
    "####### WRITE HERE ######################################################\n",
    "####### iSTFTにより波形に戻す\n",
    "\n",
    "\n",
    "####### wave_fast2_05の表示\n",
    "\n",
    "\n",
    "####### wave_fast2_05をout2_fast2_05.wavとして保存\n",
    "\n",
    "\n",
    "#########################################################################"
   ]
  },
  {
   "source": [
    "### 1.5倍速の時のスペクトルx_fast_15を作成"
   ],
   "cell_type": "markdown",
   "metadata": {}
  },
  {
   "cell_type": "code",
   "execution_count": null,
   "metadata": {},
   "outputs": [],
   "source": [
    "####### WRITE HERE ######################################################\n",
    "####### x_fast_15で，xから変わる方の長さを，x_shapeを用いて決める\n",
    "x_fast_15_len = \n",
    "####### np.zeros([縦の長さ, 横の長さ])でx_fast_15を作成\n",
    "x_fast_15 =\n",
    "\n",
    "####### x_fast_15の要素を，xをもとに挿入\n",
    "\n",
    "\n",
    "#########################################################################\n",
    "\n",
    "####### カラーマップの描画\n",
    "x_abs_15 = np.abs(x_fast_15)  ### 振幅成分の取り出し\n",
    "x_abs_db_15 = librosa.core.amplitude_to_db(x_abs_15)  ### db単位へ変換\n",
    "librosa.display.specshow(x_abs_db_15, cmap='jet', sr=sr, x_axis='time', y_axis='log')  ### スペクトログラムを表示(y軸を対数軸に変換)\n",
    "plt.colorbar(format='%+2.0f dB')    ### カラーバーの表示\n",
    "plt.tight_layout()                  ### 図のサイズをなんかいい感じにする\n",
    "plt.show()                          ### グラフの表示"
   ]
  },
  {
   "source": [
    "### x_fast_15をiSTFTで波形成分に変換"
   ],
   "cell_type": "markdown",
   "metadata": {}
  },
  {
   "cell_type": "code",
   "execution_count": null,
   "metadata": {},
   "outputs": [],
   "source": [
    "####### WRITE HERE ######################################################\n",
    "####### iSTFTにより波形に戻す\n",
    "\n",
    "\n",
    "####### wave_fast2_15の表示\n",
    "\n",
    "\n",
    "####### wave_fast2_15をout2_fast2_15.wavとして保存\n",
    "\n",
    "\n",
    "#########################################################################"
   ]
  },
  {
   "source": [
    "## 課題3.3 周波数領域でピッチシフト\n",
    "逆に，テンポを変えずに音程（ピッチ）だけを0.5倍，1.5倍にしたい"
   ],
   "cell_type": "markdown",
   "metadata": {}
  },
  {
   "source": [
    "### ピッチ0.5倍の時のスペクトルx_pitch_05を作成（記述）"
   ],
   "cell_type": "markdown",
   "metadata": {}
  },
  {
   "cell_type": "code",
   "execution_count": null,
   "metadata": {},
   "outputs": [],
   "source": [
    "####### x_pitch_05のサイズはxと同じ\n",
    "####### ↓ np.zeros([x_shape1, x_shape2])と同じ意味\n",
    "x_pitch_05 = np.zeros_like(x)\n",
    "\n",
    "####### WRITE HERE ######################################################\n",
    "####### xのすべての値を，周波数0.5倍にした位置へ移動させる\n",
    "####### x_pitch_05の周波数が半分より大きい部分は，\n",
    "####### 参照できるデータがないので0のままにしておく\n",
    "\n",
    "\n",
    "\n",
    "#########################################################################\n",
    "\n",
    "####### カラーマップの描画\n",
    "x_abs_05 = np.abs(x_pitch_05)  ### 振幅成分の取り出し\n",
    "x_abs_db_05 = librosa.core.amplitude_to_db(x_abs_05)  ### db単位へ変換\n",
    "librosa.display.specshow(x_abs_db_05, cmap='jet', sr=sr, x_axis='time', y_axis='log')  ### スペクトログラムを表示(y軸を対数軸に変換)\n",
    "plt.colorbar(format='%+2.0f dB')    ### カラーバーの表示\n",
    "plt.tight_layout()                  ### 図のサイズをなんかいい感じにする\n",
    "plt.show()                          ### グラフの表示"
   ]
  },
  {
   "source": [
    "### x_pitch_05をiSTFTで波形成分に変換（記述）"
   ],
   "cell_type": "markdown",
   "metadata": {}
  },
  {
   "cell_type": "code",
   "execution_count": null,
   "metadata": {},
   "outputs": [],
   "source": [
    "####### WRITE HERE ######################################################\n",
    "####### iSTFTにより波形に戻す\n",
    "\n",
    "\n",
    "####### wave_pitch_05の表示\n",
    "\n",
    "\n",
    "####### wave_pitch_05をout2_pitch_05.wavとして保存\n",
    "\n",
    "\n",
    "#########################################################################"
   ]
  },
  {
   "source": [
    "### ピッチ1.5倍の時のスペクトルx_pitch_15を作成（記述）"
   ],
   "cell_type": "markdown",
   "metadata": {}
  },
  {
   "cell_type": "code",
   "execution_count": null,
   "metadata": {},
   "outputs": [],
   "source": [
    "####### WRITE HERE ######################################################\n",
    "####### x_pitch_15のサイズはxと同じ\n",
    "x_pitch_15 = \n",
    "\n",
    "####### xのすべての値を，周波数1.5倍にした位置へ移動させる\n",
    "\n",
    "\n",
    "#########################################################################\n",
    "\n",
    "####### カラーマップの描画\n",
    "x_abs_15 = np.abs(x_pitch_15)  ### 振幅成分の取り出し\n",
    "x_abs_db_15 = librosa.core.amplitude_to_db(x_abs_15)  ### db単位へ変換\n",
    "librosa.display.specshow(x_abs_db_15, cmap='jet', sr=sr, x_axis='time', y_axis='log')  ### スペクトログラムを表示(y軸を対数軸に変換)\n",
    "plt.colorbar(format='%+2.0f dB')    ### カラーバーの表示\n",
    "plt.tight_layout()                  ### 図のサイズをなんかいい感じにする\n",
    "plt.show()                          ### グラフの表示"
   ]
  },
  {
   "source": [
    "### x_pitch_15をiSTFTで波形成分に変換（記述）"
   ],
   "cell_type": "markdown",
   "metadata": {}
  },
  {
   "cell_type": "code",
   "execution_count": null,
   "metadata": {},
   "outputs": [],
   "source": [
    "####### WRITE HERE ######################################################\n",
    "####### iSTFTにより波形に戻す\n",
    "\n",
    "\n",
    "####### wave_pitch_15の表示\n",
    "\n",
    "\n",
    "####### wave_pitch_15をout2_pitch_15.wavとして保存\n",
    "\n",
    "\n",
    "#########################################################################"
   ]
  },
  {
   "source": [
    "## 課題3.4 周波数領域での精度の変化\n",
    "STFTの分解能を考えることで，周波数領域でのテンポ/ピッチシフトで<br>\n",
    "もっときれいな出力結果を得られる可能性がある<br>\n",
    "（0.5倍のときに声の子音に変なエコーがかかっているのは，時間軸での切り取る長さ（分解能）が原因）<br><br>\n",
    "分解能には，課題2.2で行ったSTFTにおけるn_fftの値(fft_num)が影響する．<br>\n",
    "これはFFT長などとも呼ばれ，時間軸および周波数軸の長さ，すなわち細かさに影響する<br>\n",
    "（詳細はググってください）．"
   ],
   "cell_type": "markdown",
   "metadata": {}
  },
  {
   "source": [
    "### fft_numを小さく（xの時の1/4）してSTFTを行う（記述）\n"
   ],
   "cell_type": "markdown",
   "metadata": {}
  },
  {
   "cell_type": "code",
   "execution_count": null,
   "metadata": {},
   "outputs": [],
   "source": [
    "####### WRITE HERE ######################################################\n",
    "####### fft_numの1/4の長さでfft_num2を設定\n",
    "fft_num2 = \n",
    "\n",
    "#########################################################################\n",
    "x2 = librosa.core.stft(wave, n_fft=fft_num2, hop_length=fft_num2//4)  ### STFT\n",
    "\n",
    "####### カラーマップの描画\n",
    "x_abs2 = np.abs(x2)  ### 振幅成分の取り出し\n",
    "x_abs_db2 = librosa.core.amplitude_to_db(x_abs2)  ### db単位へ変換\n",
    "librosa.display.specshow(x_abs_db2, cmap='jet', sr=sr, x_axis='time', y_axis='log')  ### スペクトログラムを表示(y軸を対数軸に変換)\n",
    "plt.colorbar(format='%+2.0f dB')    ### カラーバーの表示\n",
    "plt.tight_layout()                  ### 図のサイズをなんかいい感じにする\n",
    "plt.show()                          ### グラフの表示\n",
    "\n",
    "####### x2のサイズを表示（xの時と変わっている）\n",
    "print(f\"STFT後のサイズ:縦{x2.shape[0]}，横{x2.shape[1]}\")"
   ]
  },
  {
   "source": [
    "### 時間分解能を上げることでテンポシフトの精度を向上させてみる\n",
    "### （x2_fast05:周波数領域での0.5倍速）（記述）"
   ],
   "cell_type": "markdown",
   "metadata": {}
  },
  {
   "cell_type": "code",
   "execution_count": null,
   "metadata": {},
   "outputs": [],
   "source": [
    "####### x2のサイズを取得\n",
    "####### shape1: 縦（周波数軸），shape1: 横（時間軸）\n",
    "x2_shape1, x2_shape2 = x2.shape\n",
    "\n",
    "####### WRITE HERE ######################################################\n",
    "####### x2_fast_05で，x2から変わる方の長さを，x2_shapeを用いて決める\n",
    "x2_fast_05_len = \n",
    "####### np.zeros([縦の長さ, 横の長さ])でx2_fast_05を作成\n",
    "x2_fast_05 = \n",
    "\n",
    "####### x2_fast_05の要素を，x2をもとに挿入\n",
    "\n",
    "\n",
    "#########################################################################\n",
    "\n",
    "####### カラーマップの描画\n",
    "x_abs_05 = np.abs(x2_fast_05)  ### 振幅成分の取り出し\n",
    "x_abs_db_05 = librosa.core.amplitude_to_db(x_abs_05)  ### db単位へ変換\n",
    "librosa.display.specshow(x_abs_db_05, cmap='jet', sr=sr, x_axis='time', y_axis='log')  ### スペクトログラムを表示(y軸を対数軸に変換)\n",
    "plt.colorbar(format='%+2.0f dB')    ### カラーバーの表示\n",
    "plt.tight_layout()                  ### 図のサイズをなんかいい感じにする\n",
    "plt.show()                          ### グラフの表示"
   ]
  },
  {
   "source": [
    "### x2_fast_05をiSTFTで波形成分に変換（記述）"
   ],
   "cell_type": "markdown",
   "metadata": {}
  },
  {
   "cell_type": "code",
   "execution_count": null,
   "metadata": {},
   "outputs": [],
   "source": [
    "####### WRITE HERE ######################################################\n",
    "####### iSTFTにより波形に戻す\n",
    "\n",
    "\n",
    "####### wave2_fast_05の表示\n",
    "\n",
    "\n",
    "####### wave2_fast_05をout2_fast3_05.wavとして保存\n",
    "\n",
    "\n",
    "#########################################################################"
   ]
  }
 ]
}